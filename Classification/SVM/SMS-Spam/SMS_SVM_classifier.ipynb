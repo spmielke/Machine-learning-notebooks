{
 "cells": [
  {
   "cell_type": "markdown",
   "metadata": {},
   "source": [
    "<center><span style='color:darkblue'><h1>SMS Spam Classifier</style></h1></center>\n",
    "<br>\n",
    "<center><h2>Steven Mielke, Ph.D.</h2></center>\n",
    "<center><h3>May 23, 2020</h3></center>\n",
    "<br>"
   ]
  },
  {
   "cell_type": "markdown",
   "metadata": {},
   "source": [
    "## Summary\n",
    "\n",
    "This project develops a support vector machine (SVM) model for short-message-service (SMS) spam detection (two-class classification). The model is trained and tested using 5,574 examples of real text messages, labeled as 'spam' or 'ham' (not spam).<sup>1</sup> For the chosen 75-25 split of the data into a training set with 4,180 examples and a test set with 1,394 examples, the model classifies training-set messages with an accuracy of 0.9921, and test-set messages with an accuracy of 0.9864. Predictions on the test set yield an F<sub>1</sub> score of 0.9861, with precision 0.9865 and recall 0.9864. Of the 1,208 ham messages in the test set, only one is incorrectly identified as spam.\n",
    "\n",
    "|              | Training Set | Test Set |\n",
    "|--------------|--------------|----------|\n",
    "|   Accuracy   |     0.9921   |   0.9864 |\n",
    "| F<sub>1</sub>|       -      |   0.9861 |\n",
    "|   *P*        |       -      |   0.9865 |\n",
    "|   *R*        |       -      |   0.9864 |\n",
    "\n",
    "<br>\n",
    "\n",
    "1. http://www.dt.fee.unicamp.br/~tiago/smsspamcollection/\n",
    "\n"
   ]
  },
  {
   "cell_type": "markdown",
   "metadata": {},
   "source": [
    "<br>\n",
    "<center><h2>Table of Contents</h2></center>"
   ]
  },
  {
   "cell_type": "markdown",
   "metadata": {},
   "source": [
    "<center>\n",
    "<span style='font-size:1.5em;'>\n",
    "    <strong><a href='#Data'>1. Data & Preprocessing</a></strong><br>\n",
    "    <a href='#Import'>1.1. Data import</a><br> \n",
    "    <a href='#Separate'>1.2. Data separation</a><br>\n",
    "    <a href='#Preprocess'>1.3. Data preprocessing</a><br>\n",
    "    <a href='#Dictionary'>1.4. Vocabulary list and data indexing</a><br>\n",
    "<strong><a href='#Features'>2. Feature Extraction</a><strong><br>\n",
    "    <strong><a href='#Model'>3. Modeling & Analysis</a></strong><br>\n",
    "    <strong><a href='#Results'>4. Results & Conclusion</a></strong><br>\n",
    "</span>\n",
    "</center>"
   ]
  },
  {
   "cell_type": "markdown",
   "metadata": {},
   "source": [
    "<a name='Data'></a>\n",
    "## 1. Data & Preprocessing\n",
    "\n",
    "The data file 'SMSSpamCollection.txt' was downloaded as plain text from Ref. 1 (see Summary). Each line of the file (5,574 total) contains the string label 'spam' or 'ham', followed by the raw text message to which the label refers. The preprocessing procedure, which includes normalization of the raw data, is described in <a href='#Preprocess'>**Section 1.3**</a>. In <a href='#Dictionary'>**Section 1.4**</a>, an indexed vocabulary list of the most frequently occurring words is generated from the preprocessed dataset, then referenced to replace the words in each preprocessed example with the corresponding numerical indices, which facilitates feature extraction (<a href='#Features'>**Section 2**</a>). "
   ]
  },
  {
   "cell_type": "markdown",
   "metadata": {},
   "source": [
    "<a name='Import'></a>\n",
    "### 1.1. Read data file \\[1\\] to dataframe 'df1' with columns 'Class', 'Text'"
   ]
  },
  {
   "cell_type": "code",
   "execution_count": 1,
   "metadata": {},
   "outputs": [],
   "source": [
    "import pandas as pd"
   ]
  },
  {
   "cell_type": "code",
   "execution_count": 2,
   "metadata": {},
   "outputs": [
    {
     "data": {
      "text/html": [
       "<div>\n",
       "<style scoped>\n",
       "    .dataframe tbody tr th:only-of-type {\n",
       "        vertical-align: middle;\n",
       "    }\n",
       "\n",
       "    .dataframe tbody tr th {\n",
       "        vertical-align: top;\n",
       "    }\n",
       "\n",
       "    .dataframe thead th {\n",
       "        text-align: right;\n",
       "    }\n",
       "</style>\n",
       "<table border=\"1\" class=\"dataframe\">\n",
       "  <thead>\n",
       "    <tr style=\"text-align: right;\">\n",
       "      <th></th>\n",
       "      <th>Class</th>\n",
       "      <th>Text</th>\n",
       "    </tr>\n",
       "  </thead>\n",
       "  <tbody>\n",
       "    <tr>\n",
       "      <th>0</th>\n",
       "      <td>ham</td>\n",
       "      <td>Go until jurong point, crazy.. Available only ...</td>\n",
       "    </tr>\n",
       "    <tr>\n",
       "      <th>1</th>\n",
       "      <td>ham</td>\n",
       "      <td>Ok lar... Joking wif u oni...</td>\n",
       "    </tr>\n",
       "    <tr>\n",
       "      <th>2</th>\n",
       "      <td>spam</td>\n",
       "      <td>Free entry in 2 a wkly comp to win FA Cup fina...</td>\n",
       "    </tr>\n",
       "    <tr>\n",
       "      <th>3</th>\n",
       "      <td>ham</td>\n",
       "      <td>U dun say so early hor... U c already then say...</td>\n",
       "    </tr>\n",
       "    <tr>\n",
       "      <th>4</th>\n",
       "      <td>ham</td>\n",
       "      <td>Nah I don't think he goes to usf, he lives aro...</td>\n",
       "    </tr>\n",
       "    <tr>\n",
       "      <th>...</th>\n",
       "      <td>...</td>\n",
       "      <td>...</td>\n",
       "    </tr>\n",
       "    <tr>\n",
       "      <th>5569</th>\n",
       "      <td>spam</td>\n",
       "      <td>This is the 2nd time we have tried 2 contact u...</td>\n",
       "    </tr>\n",
       "    <tr>\n",
       "      <th>5570</th>\n",
       "      <td>ham</td>\n",
       "      <td>Will ü b going to esplanade fr home?</td>\n",
       "    </tr>\n",
       "    <tr>\n",
       "      <th>5571</th>\n",
       "      <td>ham</td>\n",
       "      <td>Pity, * was in mood for that. So...any other s...</td>\n",
       "    </tr>\n",
       "    <tr>\n",
       "      <th>5572</th>\n",
       "      <td>ham</td>\n",
       "      <td>The guy did some bitching but I acted like i'd...</td>\n",
       "    </tr>\n",
       "    <tr>\n",
       "      <th>5573</th>\n",
       "      <td>ham</td>\n",
       "      <td>Rofl. Its true to its name</td>\n",
       "    </tr>\n",
       "  </tbody>\n",
       "</table>\n",
       "<p>5574 rows × 2 columns</p>\n",
       "</div>"
      ],
      "text/plain": [
       "     Class                                               Text\n",
       "0      ham  Go until jurong point, crazy.. Available only ...\n",
       "1      ham                      Ok lar... Joking wif u oni...\n",
       "2     spam  Free entry in 2 a wkly comp to win FA Cup fina...\n",
       "3      ham  U dun say so early hor... U c already then say...\n",
       "4      ham  Nah I don't think he goes to usf, he lives aro...\n",
       "...    ...                                                ...\n",
       "5569  spam  This is the 2nd time we have tried 2 contact u...\n",
       "5570   ham               Will ü b going to esplanade fr home?\n",
       "5571   ham  Pity, * was in mood for that. So...any other s...\n",
       "5572   ham  The guy did some bitching but I acted like i'd...\n",
       "5573   ham                         Rofl. Its true to its name\n",
       "\n",
       "[5574 rows x 2 columns]"
      ]
     },
     "execution_count": 2,
     "metadata": {},
     "output_type": "execute_result"
    }
   ],
   "source": [
    "path = '/resources/Spam-SVM/SMSSpamCollection.txt'\n",
    "df1 = pd.read_table(path, names=('Class', 'Text'))\n",
    "df1"
   ]
  },
  {
   "cell_type": "markdown",
   "metadata": {},
   "source": [
    "#### Define *m* = 5574 as total number of examples"
   ]
  },
  {
   "cell_type": "code",
   "execution_count": 5,
   "metadata": {},
   "outputs": [
    {
     "name": "stdout",
     "output_type": "stream",
     "text": [
      "m = 5574\n",
      "\n",
      "Number of rows in 'df1' (total number of examples):  5574\n"
     ]
    }
   ],
   "source": [
    "m = df1.shape[0]\n",
    "print('m = %s\\n' % m)\n",
    "print('Number of rows in \\'df1\\' (total number of examples):  %s' % m)"
   ]
  },
  {
   "cell_type": "markdown",
   "metadata": {},
   "source": [
    "<a name='Separate'></a>\n",
    "### 1.2. Write spam- and ham-labeled messages to separate files ('spam.txt', 'ham.txt') for organizational purposes "
   ]
  },
  {
   "cell_type": "markdown",
   "metadata": {},
   "source": [
    "#### Write 'spam.txt'"
   ]
  },
  {
   "cell_type": "code",
   "execution_count": 8,
   "metadata": {
    "jupyter": {
     "source_hidden": true
    }
   },
   "outputs": [],
   "source": [
    "spam_txt = open('spam.txt', 'w')\n",
    "for i in range(0,m):\n",
    "    if (df1.iloc[i,0] == 'spam'):\n",
    "        spam_txt.write(df1.iloc[i,1])\n",
    "        spam_txt.write('\\n')\n",
    "spam_txt.close()        "
   ]
  },
  {
   "cell_type": "markdown",
   "metadata": {},
   "source": [
    "#### Print first five lines of 'spam.txt'; total lines (examples of spam) = 747"
   ]
  },
  {
   "cell_type": "code",
   "execution_count": 8,
   "metadata": {
    "jupyter": {
     "source_hidden": true
    }
   },
   "outputs": [
    {
     "name": "stdout",
     "output_type": "stream",
     "text": [
      "Free entry in 2 a wkly comp to win FA Cup final tkts 21st May 2005. Text FA to 87121 to receive entry question(std txt rate)T&C's apply 08452810075over18's\n",
      "FreeMsg Hey there darling it's been 3 week's now and no word back! I'd like some fun you up for it still? Tb ok! XxX std chgs to send, £1.50 to rcv\n",
      "WINNER!! As a valued network customer you have been selected to receivea £900 prize reward! To claim call 09061701461. Claim code KL341. Valid 12 hours only.\n",
      "Had your mobile 11 months or more? U R entitled to Update to the latest colour mobiles with camera for Free! Call The Mobile Update Co FREE on 08002986030\n",
      "SIX chances to win CASH! From 100 to 20,000 pounds txt> CSH11 and send to 87575. Cost 150p/day, 6days, 16+ TsandCs apply Reply HL 4 info\n",
      "\n",
      "Number of rows in 'spam.txt' (total number of spam [y = 1] examples):  747\n"
     ]
    }
   ],
   "source": [
    "tmp = open('spam.txt', 'r')\n",
    "contents = tmp.readlines()\n",
    "ctr = 0\n",
    "for i in contents:\n",
    "    if (ctr < 5):\n",
    "        print(i, end=\"\")\n",
    "    ctr += 1\n",
    "\n",
    "ctr = 0\n",
    "for i in contents:\n",
    "    ctr += 1\n",
    "print('\\nNumber of rows in \\'spam.txt\\' (total number of spam [y = 1] examples):  %s' % ctr)"
   ]
  },
  {
   "cell_type": "markdown",
   "metadata": {},
   "source": [
    "#### Write 'ham.txt' "
   ]
  },
  {
   "cell_type": "code",
   "execution_count": 4,
   "metadata": {
    "jupyter": {
     "source_hidden": true
    }
   },
   "outputs": [],
   "source": [
    "spam_txt = open('ham.txt', 'w')\n",
    "for i in range(0,m):\n",
    "    if (df1.iloc[i,0] == 'ham'):\n",
    "        spam_txt.write(df1.iloc[i,1])\n",
    "        spam_txt.write('\\n')\n",
    "spam_txt.close()        "
   ]
  },
  {
   "cell_type": "markdown",
   "metadata": {},
   "source": [
    "#### Print first five lines of 'ham.txt'; total lines (examples of ham) = 4,827"
   ]
  },
  {
   "cell_type": "code",
   "execution_count": 9,
   "metadata": {
    "jupyter": {
     "source_hidden": true
    }
   },
   "outputs": [
    {
     "name": "stdout",
     "output_type": "stream",
     "text": [
      "Go until jurong point, crazy.. Available only in bugis n great world la e buffet... Cine there got amore wat...\n",
      "Ok lar... Joking wif u oni...\n",
      "U dun say so early hor... U c already then say...\n",
      "Nah I don't think he goes to usf, he lives around here though\n",
      "Even my brother is not like to speak with me. They treat me like aids patent.\n",
      "\n",
      "Number of rows in 'ham.txt' (total number of ham [y = 0] examples):  4827\n"
     ]
    }
   ],
   "source": [
    "tmp = open('ham.txt', 'r')\n",
    "contents = tmp.readlines()\n",
    "ctr = 0\n",
    "for i in contents:\n",
    "    if (ctr < 5):\n",
    "        print(i, end=\"\")\n",
    "    ctr += 1\n",
    "    \n",
    "ctr = 0\n",
    "for i in contents:\n",
    "    ctr += 1\n",
    "print('\\nNumber of rows in \\'ham.txt\\' (total number of ham [y = 0] examples):  %s' % ctr)"
   ]
  },
  {
   "cell_type": "markdown",
   "metadata": {},
   "source": [
    "<a name='Preprocess'></a>\n",
    "### 1.3. Preprocess 'spam.txt', 'ham.txt'\n",
    "Preprocessing was performed on MATLAB Online, using a modified version of the script 'processEmail.m' from the programming exercises (/ex6) in Week 7 of Andrew Ng's online course, *Machine Learning* (Coursera / Stanford).<sup>2</sup> The script calls additional functions, such as a stemmer ('porterStemmer.m'), to perform the following preprocessing and normalization procedures on the raw data:\n",
    "\n",
    "* Lower-casing: The entire dataset is converted to lower case, so that capitalization is ignored (e.g., IndIcaTE is treated the same as indicate).\n",
    "* Stripping HTML: All HTML tags are removed, so that only the corresponding content remains.\n",
    "* Normalizing URLs: All URLs are replaced with the text 'httpaddr'.\n",
    "* Normalizing Email Addresses: All email addresses are replaced with the text 'emailaddr'.\n",
    "* Normalizing Numbers: All numbers are replaced with the text 'number'.\n",
    "* Normalizing Dollars: All dollar signs ($) are replaced with the text 'dollar'.\n",
    "* Word Stemming: Words are reduced to their stemmed form. For example, 'discount', 'discounts', 'discounted', and 'discounting' are all replaced with 'discount'. Sometimes, the stemmer strips additional characters from the end; e.g., 'include', 'includes', 'included', and 'including' are all replaced with 'includ'.\n",
    "* Removing non-words: Non-words and punctuation are removed. All white spaces (tabs, newlines, spaces) are trimmed to a single space character.\n",
    "\n",
    "The preprocessed messages were written, one example per line, to 'spam_proc.txt', 'ham_proc.txt'.  \n",
    "\n",
    "2. https://www.coursera.org/learn/machine-learning/home/welcome"
   ]
  },
  {
   "cell_type": "markdown",
   "metadata": {},
   "source": [
    "#### Print first five lines of 'spam_proc.txt'; total lines (examples of spam) = 747"
   ]
  },
  {
   "cell_type": "code",
   "execution_count": 10,
   "metadata": {
    "jupyter": {
     "source_hidden": true
    }
   },
   "outputs": [
    {
     "name": "stdout",
     "output_type": "stream",
     "text": [
      "free entri in number a wkly comp to win fa cup final tkt numberst mai number text fa to number to receiv entri question std txt rate t c s appli numberovernumb s \n",
      "freemsg hei there darl it s been number week s now and no word back i d like some fun you up for it still tb ok xxx std chg to send number number to rcv \n",
      "winner as a valu network custom you have been select to receivea number prize reward to claim call number claim code klnumber valid number hour onli \n",
      "had your mobil number month or more u r entitl to updat to the latest colour mobil with camera for free call the mobil updat co free on number \n",
      "six chanc to win cash from number to number number pound txt cshnumber and send to number cost numberp dai numberdai number tsandc appli repli hl number info \n",
      "\n",
      "Number of rows in 'spam_proc.txt' (total number of processed, normalized spam examples):  747\n"
     ]
    }
   ],
   "source": [
    "tmp = open('spam_proc.txt', 'r')\n",
    "contents = tmp.readlines()\n",
    "ctr = 0\n",
    "for i in contents:\n",
    "    if (ctr < 5):\n",
    "        print(i, end=\"\")\n",
    "    ctr += 1\n",
    "    \n",
    "ctr = 0\n",
    "for i in contents:\n",
    "    ctr += 1\n",
    "print('\\nNumber of rows in \\'spam_proc.txt\\' (total number of processed, normalized spam examples):  %s' % ctr)"
   ]
  },
  {
   "cell_type": "markdown",
   "metadata": {},
   "source": [
    "#### Print first five lines of 'ham_proc.txt'; total lines (examples of ham) = 4827"
   ]
  },
  {
   "cell_type": "code",
   "execution_count": 11,
   "metadata": {
    "jupyter": {
     "source_hidden": true
    }
   },
   "outputs": [
    {
     "name": "stdout",
     "output_type": "stream",
     "text": [
      "go until jurong point crazi avail onli in bugi n great world la e buffet cine there got amor wat \n",
      "ok lar joke wif u oni \n",
      "u dun sai so earli hor u c alreadi then sai \n",
      "nah i don t think he goe to usf he live around here though \n",
      "even my brother is not like to speak with me thei treat me like aid patent \n",
      "\n",
      "Number of rows in 'ham_proc.txt' (total number of processed, normalized ham examples):  4827\n"
     ]
    }
   ],
   "source": [
    "tmp = open('ham_proc.txt', 'r')\n",
    "contents = tmp.readlines()\n",
    "ctr = 0\n",
    "for i in contents:\n",
    "    if (ctr < 5):\n",
    "        print(i, end=\"\")\n",
    "    ctr += 1\n",
    "    \n",
    "ctr = 0\n",
    "for i in contents:\n",
    "    ctr += 1\n",
    "print('\\nNumber of rows in \\'ham_proc.txt\\' (total number of processed, normalized ham examples):  %s' % ctr)"
   ]
  },
  {
   "cell_type": "markdown",
   "metadata": {},
   "source": [
    "<a name='Dictionary'></a>\n",
    "### 1.4. Create dictionary (vocabulary list), then use to index 'spam_proc', 'ham_proc'\n",
    "An indexed vocabulary list ('**vocabSMS_**') of the 2,000 most frequently occurring words in 'spam_proc' and 'ham_proc' (omitting 'stopwords') was generated, then each word in 'spam_proc' and 'ham_proc' present in the list was replaced by its index, resulting in '**spam_proc_idx_**' and '**ham_proc_idx_**'. Words in 'spam_proc' and 'ham_proc' not present in the vocabulary list were omitted from 'spam_proc_idx_' and 'ham_proc_idx_'."
   ]
  },
  {
   "cell_type": "markdown",
   "metadata": {},
   "source": [
    "#### 1.4.1. Create vocabulary list (and visualize as a wordcloud)\n",
    "Using 'wordcloud' module and 'collections' library, select the 2,000 most frequently occurring words in 'spam_proc' and 'ham_proc' ('spam+ham_proc'), ignoring stopwords; i.e., simple common words &mdash; including pronouns, prepositions, articles, and contractions (see below) &mdash; which, for present purposes, are likely to occur with approximately equal frequency in both spam and ham messages. Write the selected words as an indexed list to 'vocabSMS_', and visualize as a wordcloud. "
   ]
  },
  {
   "cell_type": "code",
   "execution_count": 2,
   "metadata": {
    "collapsed": true,
    "jupyter": {
     "outputs_hidden": true
    }
   },
   "outputs": [
    {
     "name": "stdout",
     "output_type": "stream",
     "text": [
      "Collecting package metadata (current_repodata.json): done\n",
      "Solving environment: failed with initial frozen solve. Retrying with flexible solve.\n",
      "Collecting package metadata (repodata.json): done\n",
      "Solving environment: done\n",
      "\n",
      "## Package Plan ##\n",
      "\n",
      "  environment location: /home/jupyterlab/conda/envs/python\n",
      "\n",
      "  added / updated specs:\n",
      "    - wordcloud==1.4.1\n",
      "\n",
      "\n",
      "The following packages will be downloaded:\n",
      "\n",
      "    package                    |            build\n",
      "    ---------------------------|-----------------\n",
      "    ca-certificates-2020.11.8  |       ha878542_0         145 KB  conda-forge\n",
      "    wordcloud-1.4.1            |           py36_0         324 KB  conda-forge\n",
      "    ------------------------------------------------------------\n",
      "                                           Total:         469 KB\n",
      "\n",
      "The following NEW packages will be INSTALLED:\n",
      "\n",
      "  wordcloud          conda-forge/linux-64::wordcloud-1.4.1-py36_0\n",
      "\n",
      "The following packages will be UPDATED:\n",
      "\n",
      "  ca-certificates                      2020.6.20-hecda079_0 --> 2020.11.8-ha878542_0\n",
      "\n",
      "\n",
      "\n",
      "Downloading and Extracting Packages\n",
      "ca-certificates-2020 | 145 KB    | ##################################### | 100% \n",
      "wordcloud-1.4.1      | 324 KB    | ##################################### | 100% \n",
      "Preparing transaction: done\n",
      "Verifying transaction: done\n",
      "Executing transaction: done\n"
     ]
    }
   ],
   "source": [
    "# Install wordcloud\n",
    "\n",
    "!conda install -c conda-forge wordcloud==1.4.1 --yes"
   ]
  },
  {
   "cell_type": "code",
   "execution_count": 37,
   "metadata": {},
   "outputs": [],
   "source": [
    "# Import WordCloud, STOPWORDS, collections libraries\n",
    "\n",
    "from wordcloud import WordCloud, STOPWORDS\n",
    "import collections"
   ]
  },
  {
   "cell_type": "markdown",
   "metadata": {},
   "source": [
    "#### List 15 of 190 **stopwords** (common words omitted from 'vocabSMS_' and associated wordcloud)"
   ]
  },
  {
   "cell_type": "code",
   "execution_count": 38,
   "metadata": {
    "jupyter": {
     "source_hidden": true
    }
   },
   "outputs": [
    {
     "name": "stdout",
     "output_type": "stream",
     "text": [
      "Stopwords (15 of 190):\n",
      "out\n",
      "let's\n",
      "we\n",
      "was\n",
      "how\n",
      "myself\n",
      "for\n",
      "could\n",
      "they\n",
      "when's\n",
      "about\n",
      "hasn't\n",
      "then\n",
      "both\n",
      "i'd\n"
     ]
    }
   ],
   "source": [
    "stopwords = set(STOPWORDS)\n",
    "\n",
    "print('Stopwords (15 of %s):' % len(stopwords))\n",
    "\n",
    "ctr = 0\n",
    "for i in stopwords:\n",
    "    if ctr < 15:\n",
    "        print(i)\n",
    "        ctr += 1\n",
    "    else:\n",
    "        break"
   ]
  },
  {
   "cell_type": "markdown",
   "metadata": {},
   "source": [
    "#### Select the 2,000 most frequently occurring words in 'spam+ham_proc', ignoring stopwords \n",
    "Rank the selected words by total count in descending order, and write each word, with incrementally increasing index, to 'vocabSMS_'. The resulting **vocabulary list** ('vocabSMS_') includes words ranging in frequency from 3 to 3,149 occurrences. Print the 20 most frequent words along with their total counts."
   ]
  },
  {
   "cell_type": "code",
   "execution_count": 50,
   "metadata": {},
   "outputs": [
    {
     "name": "stdout",
     "output_type": "stream",
     "text": [
      "word: number, count: 3149\n",
      "word: u, count: 1206\n",
      "word: call, count: 674\n",
      "word: s, count: 562\n",
      "word: ar, count: 503\n",
      "word: now, count: 502\n",
      "word: t, count: 461\n",
      "word: go, count: 456\n",
      "word: m, count: 424\n",
      "word: will, count: 396\n",
      "word: ur, count: 395\n",
      "word: thi, count: 343\n",
      "word: gt, count: 318\n",
      "word: lt, count: 316\n",
      "word: come, count: 304\n",
      "word: ok, count: 293\n",
      "word: free, count: 284\n",
      "word: dai, count: 277\n",
      "word: know, count: 275\n",
      "word: love, count: 266\n",
      "\n",
      "20 most frequent of 2000 words selected for vocab list\n"
     ]
    }
   ],
   "source": [
    "SMS_wrdcld = open('spam+ham_proc.txt', 'r').read() \n",
    "vocabSMS = open('vocabSMS_.txt', 'w')\n",
    "\n",
    "filtered_words_spam = [word for word in SMS_wrdcld.split() if word not in stopwords]\n",
    "counted_words_spam = collections.Counter(filtered_words_spam)\n",
    "\n",
    "word_count_spam = {}\n",
    "\n",
    "for letter, count in counted_words_spam.most_common(2000):\n",
    "    word_count_spam[letter] = count\n",
    "\n",
    "ctr = 1\n",
    "for i,j in word_count_spam.items():\n",
    "    vocabSMS.write('%d %s\\n' % (ctr,i))\n",
    "    if ctr < 21:\n",
    "        print('word: {0}, count: {1}'.format(i,j))\n",
    "    ctr += 1\n",
    "\n",
    "print('\\n20 most frequent of %d words selected for vocab list' % (ctr-1))\n",
    "        \n",
    "vocabSMS.close()"
   ]
  },
  {
   "cell_type": "markdown",
   "metadata": {},
   "source": [
    "#### Generate a wordcloud containing the 2,000 selected words"
   ]
  },
  {
   "cell_type": "code",
   "execution_count": 53,
   "metadata": {},
   "outputs": [
    {
     "data": {
      "text/plain": [
       "<wordcloud.wordcloud.WordCloud at 0x7fd5e6d6b160>"
      ]
     },
     "execution_count": 53,
     "metadata": {},
     "output_type": "execute_result"
    }
   ],
   "source": [
    "# Instantiate WordCloud object\n",
    "SMS_wc = WordCloud(\n",
    "    background_color='white',\n",
    "    max_words=2000,\n",
    "    stopwords=stopwords\n",
    ")\n",
    "\n",
    "# Generate wordcloud\n",
    "SMS_wc.generate(SMS_wrdcld)"
   ]
  },
  {
   "cell_type": "markdown",
   "metadata": {},
   "source": [
    "#### Display the wordcloud"
   ]
  },
  {
   "cell_type": "code",
   "execution_count": 54,
   "metadata": {},
   "outputs": [
    {
     "data": {
      "image/png": "[encoded data removed]",
      "text/plain": [
       "<Figure size 1008x1296 with 1 Axes>"
      ]
     },
     "metadata": {
      "needs_background": "light"
     },
     "output_type": "display_data"
    }
   ],
   "source": [
    "import matplotlib.pyplot as plt\n",
    "\n",
    "fig = plt.figure()\n",
    "fig.set_figwidth(14)     \n",
    "fig.set_figheight(18)    \n",
    "\n",
    "# Display wordcloud\n",
    "plt.imshow(SMS_wc, interpolation='bilinear')\n",
    "plt.axis('off')\n",
    "plt.show()\n",
    "\n",
    "#fig.savefig('SMS_wordcloud-spam+ham.png', dpi=fig.dpi)"
   ]
  },
  {
   "cell_type": "markdown",
   "metadata": {},
   "source": [
    "#### Read 'vocabSMS_' to dataframe 'df' with columns 'idx', 'word'"
   ]
  },
  {
   "cell_type": "code",
   "execution_count": 1,
   "metadata": {},
   "outputs": [
    {
     "data": {
      "text/html": [
       "<div>\n",
       "<style scoped>\n",
       "    .dataframe tbody tr th:only-of-type {\n",
       "        vertical-align: middle;\n",
       "    }\n",
       "\n",
       "    .dataframe tbody tr th {\n",
       "        vertical-align: top;\n",
       "    }\n",
       "\n",
       "    .dataframe thead th {\n",
       "        text-align: right;\n",
       "    }\n",
       "</style>\n",
       "<table border=\"1\" class=\"dataframe\">\n",
       "  <thead>\n",
       "    <tr style=\"text-align: right;\">\n",
       "      <th></th>\n",
       "      <th>idx</th>\n",
       "      <th>word</th>\n",
       "    </tr>\n",
       "  </thead>\n",
       "  <tbody>\n",
       "    <tr>\n",
       "      <th>0</th>\n",
       "      <td>1</td>\n",
       "      <td>number</td>\n",
       "    </tr>\n",
       "    <tr>\n",
       "      <th>1</th>\n",
       "      <td>2</td>\n",
       "      <td>u</td>\n",
       "    </tr>\n",
       "    <tr>\n",
       "      <th>2</th>\n",
       "      <td>3</td>\n",
       "      <td>call</td>\n",
       "    </tr>\n",
       "    <tr>\n",
       "      <th>3</th>\n",
       "      <td>4</td>\n",
       "      <td>s</td>\n",
       "    </tr>\n",
       "    <tr>\n",
       "      <th>4</th>\n",
       "      <td>5</td>\n",
       "      <td>ar</td>\n",
       "    </tr>\n",
       "    <tr>\n",
       "      <th>5</th>\n",
       "      <td>6</td>\n",
       "      <td>now</td>\n",
       "    </tr>\n",
       "    <tr>\n",
       "      <th>6</th>\n",
       "      <td>7</td>\n",
       "      <td>t</td>\n",
       "    </tr>\n",
       "    <tr>\n",
       "      <th>7</th>\n",
       "      <td>8</td>\n",
       "      <td>go</td>\n",
       "    </tr>\n",
       "    <tr>\n",
       "      <th>8</th>\n",
       "      <td>9</td>\n",
       "      <td>m</td>\n",
       "    </tr>\n",
       "    <tr>\n",
       "      <th>9</th>\n",
       "      <td>10</td>\n",
       "      <td>will</td>\n",
       "    </tr>\n",
       "    <tr>\n",
       "      <th>10</th>\n",
       "      <td>11</td>\n",
       "      <td>ur</td>\n",
       "    </tr>\n",
       "    <tr>\n",
       "      <th>11</th>\n",
       "      <td>12</td>\n",
       "      <td>thi</td>\n",
       "    </tr>\n",
       "    <tr>\n",
       "      <th>12</th>\n",
       "      <td>13</td>\n",
       "      <td>gt</td>\n",
       "    </tr>\n",
       "    <tr>\n",
       "      <th>13</th>\n",
       "      <td>14</td>\n",
       "      <td>lt</td>\n",
       "    </tr>\n",
       "    <tr>\n",
       "      <th>14</th>\n",
       "      <td>15</td>\n",
       "      <td>come</td>\n",
       "    </tr>\n",
       "    <tr>\n",
       "      <th>15</th>\n",
       "      <td>16</td>\n",
       "      <td>ok</td>\n",
       "    </tr>\n",
       "    <tr>\n",
       "      <th>16</th>\n",
       "      <td>17</td>\n",
       "      <td>free</td>\n",
       "    </tr>\n",
       "    <tr>\n",
       "      <th>17</th>\n",
       "      <td>18</td>\n",
       "      <td>dai</td>\n",
       "    </tr>\n",
       "    <tr>\n",
       "      <th>18</th>\n",
       "      <td>19</td>\n",
       "      <td>know</td>\n",
       "    </tr>\n",
       "    <tr>\n",
       "      <th>19</th>\n",
       "      <td>20</td>\n",
       "      <td>love</td>\n",
       "    </tr>\n",
       "  </tbody>\n",
       "</table>\n",
       "</div>"
      ],
      "text/plain": [
       "    idx    word\n",
       "0     1  number\n",
       "1     2       u\n",
       "2     3    call\n",
       "3     4       s\n",
       "4     5      ar\n",
       "5     6     now\n",
       "6     7       t\n",
       "7     8      go\n",
       "8     9       m\n",
       "9    10    will\n",
       "10   11      ur\n",
       "11   12     thi\n",
       "12   13      gt\n",
       "13   14      lt\n",
       "14   15    come\n",
       "15   16      ok\n",
       "16   17    free\n",
       "17   18     dai\n",
       "18   19    know\n",
       "19   20    love"
      ]
     },
     "execution_count": 1,
     "metadata": {},
     "output_type": "execute_result"
    }
   ],
   "source": [
    "import pandas as pd\n",
    "\n",
    "path = '/resources/Spam-SVM/vocabSMS_.txt'\n",
    "df = pd.read_csv(path, sep=' ', names=('idx', 'word'))\n",
    "df.head(20)"
   ]
  },
  {
   "cell_type": "markdown",
   "metadata": {},
   "source": [
    "#### Assign total number of examples (5,574) to *N*; redefine *m* as number of words in vocab list (*m* = 2,000)"
   ]
  },
  {
   "cell_type": "code",
   "execution_count": 2,
   "metadata": {},
   "outputs": [
    {
     "name": "stdout",
     "output_type": "stream",
     "text": [
      "Total number of words in vocab list, m = 2000\n"
     ]
    }
   ],
   "source": [
    "N = df1.shape[0]\n",
    "\n",
    "m = df.shape[0]\n",
    "print('Total number of words in vocab list, m = %d' % m)"
   ]
  },
  {
   "cell_type": "markdown",
   "metadata": {},
   "source": [
    "#### 1.4.2. Index 'spam_proc.txt', 'ham_proc.txt'\n",
    "To facilitate feature extraction &mdash; e.g., by allowing int-int rather than str-str comparisons to the vocab list when constructing feature vectors from the examples (see <a href='#Features'>**Section 2**</a>) &mdash; replace each word in 'spam_proc' and 'ham_proc' with its index in 'vocabSMS_'. Write output to '**spam_proc_idx_**', '**ham_proc_idx_**'. In the latter, omitted words correspond to those in 'spam+ham_proc' that were omitted from the vocab list because they are either stopwords, or less frequent than the 2,000 most frequently occurring (non-stopword) words."
   ]
  },
  {
   "cell_type": "code",
   "execution_count": 4,
   "metadata": {},
   "outputs": [],
   "source": [
    "# Function matches each word in the passed line / example to its index \n",
    "# in the vocab list (if present), and returns the example as a list of \n",
    "# matched indices\n",
    "\n",
    "def word_idx(ex):\n",
    "    words = ex.split()  # (Preprocessed) words in current line / example\n",
    "    \n",
    "    lst = []\n",
    "\n",
    "    # Iterate by word in 'words'\n",
    "    for j in words:\n",
    "        for k in range(0,m):    \n",
    "            if ( j == df.iloc[k,1] ):\n",
    "                lst.append(df.iloc[k,0])\n",
    "    return lst"
   ]
  },
  {
   "cell_type": "markdown",
   "metadata": {},
   "source": [
    "#### Write 'spam_proc_idx_'"
   ]
  },
  {
   "cell_type": "code",
   "execution_count": null,
   "metadata": {
    "jupyter": {
     "source_hidden": true
    }
   },
   "outputs": [],
   "source": [
    "spam_proc_idx = []\n",
    "\n",
    "f = open('spam_proc.txt', 'r')\n",
    "contents = f.readlines()\n",
    "\n",
    "for i in contents:\n",
    "    spam_proc_idx.append(word_idx(i))\n",
    "\n",
    "f.close()"
   ]
  },
  {
   "cell_type": "code",
   "execution_count": 35,
   "metadata": {},
   "outputs": [
    {
     "data": {
      "text/plain": [
       "747"
      ]
     },
     "execution_count": 35,
     "metadata": {},
     "output_type": "execute_result"
    }
   ],
   "source": [
    "len(spam_proc_idx)  # Agrees with number of examples / lines in 'spam_proc'"
   ]
  },
  {
   "cell_type": "code",
   "execution_count": null,
   "metadata": {
    "jupyter": {
     "source_hidden": true
    }
   },
   "outputs": [],
   "source": [
    "f = open('spam_proc_idx_.txt', 'w')\n",
    "\n",
    "for i in range(0,len(spam_proc_idx)):\n",
    "    print(*spam_proc_idx[i], file = f)\n",
    "\n",
    "f.close()"
   ]
  },
  {
   "cell_type": "code",
   "execution_count": 10,
   "metadata": {
    "jupyter": {
     "source_hidden": true
    }
   },
   "outputs": [
    {
     "name": "stdout",
     "output_type": "stream",
     "text": [
      "First 5 lines of 'spam_proc_idx_':\n",
      "\n",
      "17 385 1 642 736 115 1584 923 305 1585 245 187 1 27 1584 1 212 385 274 787 32 236 7 75 4 298 4 \n",
      "\n",
      "643 87 1091 4 1 55 4 6 159 49 53 322 44 1383 16 291 787 29 1 1 \n",
      "\n",
      "567 520 299 154 281 1 94 737 82 3 1 82 335 428 1 192 28 \n",
      "\n",
      "48 1 202 2 1001 371 251 386 48 265 17 3 48 371 71 17 1 \n",
      "\n",
      "1586 246 115 105 1 1 1 361 32 29 1 247 52 18 644 1 298 39 1234 1 682 \n",
      "\n"
     ]
    }
   ],
   "source": [
    "f = open('spam_proc_idx_.txt', 'r')\n",
    "contents = f.readlines()\n",
    "\n",
    "print('First 5 lines of \\'spam_proc_idx_\\':\\n')\n",
    "\n",
    "ctr = 1\n",
    "for i in contents:\n",
    "    if ctr < 6:\n",
    "        print(i)\n",
    "    ctr += 1\n",
    "        \n",
    "f.close()"
   ]
  },
  {
   "cell_type": "markdown",
   "metadata": {},
   "source": [
    "#### Write 'ham_proc_idx_'"
   ]
  },
  {
   "cell_type": "code",
   "execution_count": 6,
   "metadata": {
    "jupyter": {
     "source_hidden": true
    }
   },
   "outputs": [],
   "source": [
    "ham_proc_idx = []\n",
    "\n",
    "f = open('ham_proc.txt', 'r')\n",
    "contents = f.readlines()\n",
    "\n",
    "for i in contents:\n",
    "    ham_proc_idx.append(word_idx(i))\n",
    "\n",
    "f.close()"
   ]
  },
  {
   "cell_type": "code",
   "execution_count": 12,
   "metadata": {},
   "outputs": [],
   "source": [
    "len(ham_proc_idx)  # Agrees with number of examples / lines in 'ham_proc' (4,827)"
   ]
  },
  {
   "cell_type": "code",
   "execution_count": null,
   "metadata": {
    "jupyter": {
     "source_hidden": true
    }
   },
   "outputs": [],
   "source": [
    "f = open('ham_proc_idx_.txt', 'w')\n",
    "\n",
    "for i in range(0,len(ham_proc_idx)):\n",
    "    print(*ham_proc_idx[i], file = f)\n",
    "\n",
    "f.close()"
   ]
  },
  {
   "cell_type": "code",
   "execution_count": 13,
   "metadata": {
    "jupyter": {
     "source_hidden": true
    }
   },
   "outputs": [
    {
     "name": "stdout",
     "output_type": "stream",
     "text": [
      "First 5 lines of 'ham_proc_idx_':\n",
      "\n",
      "8 308 618 531 28 1150 46 79 253 1151 102 1152 25 86 \n",
      "\n",
      "16 272 559 381 2 1696 \n",
      "\n",
      "2 184 58 316 2 75 103 58 \n",
      "\n",
      "885 43 7 38 393 814 175 163 378 \n",
      "\n",
      "99 468 292 59 512 \n",
      "\n"
     ]
    }
   ],
   "source": [
    "f = open('ham_proc_idx_.txt', 'r')\n",
    "contents = f.readlines()\n",
    "\n",
    "print('First 5 lines of \\'ham_proc_idx_\\':\\n')\n",
    "\n",
    "ctr = 1\n",
    "for i in contents:\n",
    "    if ctr < 6:\n",
    "        print(i)\n",
    "    ctr += 1\n",
    "        \n",
    "f.close()"
   ]
  },
  {
   "cell_type": "markdown",
   "metadata": {},
   "source": [
    "<a name='Features'></a>\n",
    "## 2. Feature Extraction"
   ]
  },
  {
   "cell_type": "markdown",
   "metadata": {},
   "source": [
    "<a name='Vectors'></a>\n",
    "### 2.1. Write **X** and **y**\n",
    "A matrix **X** of feature vectors (one vector per example), and a vector **y** of corresponding labels, were generated by comparing each example in 'spam_proc_idx_', 'ham_proc_idx_' to the vocabulary list. Specifically, for each example, each word (index) in the vocab list was compared to each word (index) in the example. If a word in the vocab list was found in the example, that word was assigned the value 1 in the example's feature vector. If the word was not found in the example, it was assigned the value 0 in the example's feature vector. Thus, for every example *i*, we obtained a feature vector **x**\\\\(_i\\\\) of length *m* = 2,000, containing a unique set of integer values 1 and 0 representing the content of the example.  \n",
    "\n",
    "For all examples in 'spam_proc_idx_', *y* = 1, and for all examples in 'ham_proc_idx_', *y* = 0.\n",
    "\n",
    "The resulting matrix **X** and corresponding vector **y** were written to 'SMS_X_' (<a href='#211'>**2.1.1**</a>) and 'SMS_y_' (<a href='#212'>**2.1.2**</a>), which facilitate restarting the analysis at this point (<a href='#213'>**2.1.3**</a>)."
   ]
  },
  {
   "cell_type": "markdown",
   "metadata": {},
   "source": [
    "<a name='211'></a>\n",
    "#### 2.1.1. Write 'SMS_X_'&ensp;(all examples)\n",
    "Write matrix for spam (*y* = 1) examples and matrix for ham (*y* = 0) examples, then cat the two matrices as 'SMS_X_'."
   ]
  },
  {
   "cell_type": "markdown",
   "metadata": {},
   "source": [
    "#### Write spam feature matrix, **X1** \n",
    "Dimensions: (*n = number of examples*) x (*m = length of vectors = length of vocab list*)"
   ]
  },
  {
   "cell_type": "code",
   "execution_count": 14,
   "metadata": {},
   "outputs": [],
   "source": [
    "m = 2000\n",
    "\n",
    "# Length of 'spam_proc' and 'spam_proc_idx_' (number of spam examples)\n",
    "n = 747"
   ]
  },
  {
   "cell_type": "code",
   "execution_count": 15,
   "metadata": {},
   "outputs": [],
   "source": [
    "import numpy as np\n",
    "\n",
    "X1 = np.zeros((n,m))"
   ]
  },
  {
   "cell_type": "code",
   "execution_count": 16,
   "metadata": {},
   "outputs": [
    {
     "data": {
      "text/plain": [
       "(747, 2000)"
      ]
     },
     "execution_count": 16,
     "metadata": {},
     "output_type": "execute_result"
    }
   ],
   "source": [
    "X1.shape"
   ]
  },
  {
   "cell_type": "code",
   "execution_count": 11,
   "metadata": {},
   "outputs": [],
   "source": [
    "def vectors(ex,row):\n",
    "    indices = ex.split()\n",
    "    \n",
    "    for k in range(0,m):\n",
    "        for j in indices:\n",
    "            j = int(j)\n",
    "            if j == df.iloc[k,0]:\n",
    "                X1[row,k] = 1"
   ]
  },
  {
   "cell_type": "code",
   "execution_count": 12,
   "metadata": {},
   "outputs": [],
   "source": [
    "f = open('spam_proc_idx_.txt', 'r')\n",
    "\n",
    "contents = f.readlines()\n",
    "ctr = 0\n",
    "for i in contents:\n",
    "    vectors(i,ctr)\n",
    "    ctr += 1\n",
    "\n",
    "f.close()"
   ]
  },
  {
   "cell_type": "code",
   "execution_count": 14,
   "metadata": {},
   "outputs": [
    {
     "data": {
      "text/plain": [
       "747"
      ]
     },
     "execution_count": 14,
     "metadata": {},
     "output_type": "execute_result"
    }
   ],
   "source": [
    "ctr"
   ]
  },
  {
   "cell_type": "code",
   "execution_count": 15,
   "metadata": {},
   "outputs": [
    {
     "data": {
      "text/plain": [
       "array([1., 0., 0., 1., 0., 0., 1., 0., 0., 0., 0., 0., 0., 0., 0., 0., 1.,\n",
       "       0., 0., 0., 0., 0., 0., 0., 0., 0., 1., 0., 0., 0., 0., 1., 0., 0.,\n",
       "       0., 0., 0., 0., 0., 0., 0., 0., 0., 0., 0., 0., 0., 0., 0., 0., 0.,\n",
       "       0., 0., 0., 0., 0., 0., 0., 0., 0., 0., 0., 0., 0., 0., 0., 0., 0.,\n",
       "       0., 0., 0., 0., 0., 0., 1., 0., 0., 0., 0., 0., 0., 0., 0., 0., 0.,\n",
       "       0., 0., 0., 0., 0., 0., 0., 0., 0., 0., 0., 0., 0., 0., 0.])"
      ]
     },
     "execution_count": 15,
     "metadata": {},
     "output_type": "execute_result"
    }
   ],
   "source": [
    "X1[0,0:100] "
   ]
  },
  {
   "cell_type": "code",
   "execution_count": 16,
   "metadata": {},
   "outputs": [
    {
     "data": {
      "text/plain": [
       "array([1., 1., 1., 0., 0., 0., 0., 0., 0., 0., 0., 1., 0., 0., 0., 0., 0.,\n",
       "       0., 0., 0., 0., 1., 0., 0., 0., 0., 0., 1., 0., 0., 0., 0., 0., 0.,\n",
       "       0., 0., 0., 0., 0., 0., 0., 0., 0., 0., 0., 0., 0., 0., 0., 0., 0.,\n",
       "       1., 0., 0., 0., 0., 0., 0., 0., 0., 0., 0., 0., 0., 0., 0., 0., 0.,\n",
       "       0., 0., 0., 0., 0., 0., 0., 0., 0., 0., 0., 0., 0., 1., 0., 0., 0.,\n",
       "       0., 0., 0., 0., 0., 0., 0., 0., 1., 1., 0., 0., 0., 0., 0.])"
      ]
     },
     "execution_count": 16,
     "metadata": {},
     "output_type": "execute_result"
    }
   ],
   "source": [
    "X1[746,0:100]"
   ]
  },
  {
   "cell_type": "markdown",
   "metadata": {},
   "source": [
    "Write **X1** to 'spam_proc_X_'"
   ]
  },
  {
   "cell_type": "code",
   "execution_count": 16,
   "metadata": {
    "jupyter": {
     "source_hidden": true
    }
   },
   "outputs": [],
   "source": [
    "f_X = open('spam_proc_X_.txt', 'w')\n",
    "for i in range(0,n):\n",
    "    for j in range(0,m):\n",
    "        f_X.write('%d ' % X1[i,j])\n",
    "    f_X.write('\\n')\n",
    "f_X.close()"
   ]
  },
  {
   "cell_type": "markdown",
   "metadata": {},
   "source": [
    "#### Write ham feature matrix, **X0** \n",
    "Dimensions: (*n = number of examples*) x (*m = length of vectors = length of vocab list*)"
   ]
  },
  {
   "cell_type": "code",
   "execution_count": 7,
   "metadata": {},
   "outputs": [],
   "source": [
    "m = 2000\n",
    "\n",
    "# Length of 'ham_proc' and 'ham_proc_idx_' (number of ham examples)\n",
    "n = 4827"
   ]
  },
  {
   "cell_type": "code",
   "execution_count": 8,
   "metadata": {},
   "outputs": [],
   "source": [
    "X0 = np.zeros((n,m))"
   ]
  },
  {
   "cell_type": "code",
   "execution_count": 9,
   "metadata": {},
   "outputs": [
    {
     "data": {
      "text/plain": [
       "(4827, 2000)"
      ]
     },
     "execution_count": 9,
     "metadata": {},
     "output_type": "execute_result"
    }
   ],
   "source": [
    "X0.shape"
   ]
  },
  {
   "cell_type": "code",
   "execution_count": 20,
   "metadata": {},
   "outputs": [],
   "source": [
    "def vectors(ex,row):\n",
    "    indices = ex.split()\n",
    "        \n",
    "    for k in range(0,m):\n",
    "        for j in indices:\n",
    "            j = int(j)\n",
    "            if j == df.iloc[k,0]:\n",
    "                X0[row,k] = 1"
   ]
  },
  {
   "cell_type": "code",
   "execution_count": 21,
   "metadata": {},
   "outputs": [],
   "source": [
    "f = open('ham_proc_idx_.txt', 'r')\n",
    "\n",
    "contents = f.readlines()\n",
    "ctr = 0\n",
    "for i in contents:     \n",
    "    vectors(i,ctr)   \n",
    "    ctr += 1\n",
    "f.close()    "
   ]
  },
  {
   "cell_type": "code",
   "execution_count": 23,
   "metadata": {},
   "outputs": [
    {
     "data": {
      "text/plain": [
       "4827"
      ]
     },
     "execution_count": 23,
     "metadata": {},
     "output_type": "execute_result"
    }
   ],
   "source": [
    "ctr   "
   ]
  },
  {
   "cell_type": "code",
   "execution_count": 24,
   "metadata": {},
   "outputs": [
    {
     "data": {
      "text/plain": [
       "array([0., 0., 0., 0., 0., 0., 0., 1., 0., 0., 0., 0., 0., 0., 0., 0., 0.,\n",
       "       0., 0., 0., 0., 0., 0., 0., 1., 0., 0., 1., 0., 0., 0., 0., 0., 0.,\n",
       "       0., 0., 0., 0., 0., 0., 0., 0., 0., 0., 0., 1., 0., 0., 0., 0., 0.,\n",
       "       0., 0., 0., 0., 0., 0., 0., 0., 0., 0., 0., 0., 0., 0., 0., 0., 0.,\n",
       "       0., 0., 0., 0., 0., 0., 0., 0., 0., 0., 1., 0., 0., 0., 0., 0., 0.,\n",
       "       1., 0., 0., 0., 0., 0., 0., 0., 0., 0., 0., 0., 0., 0., 0.])"
      ]
     },
     "execution_count": 24,
     "metadata": {},
     "output_type": "execute_result"
    }
   ],
   "source": [
    "X0[0,0:100]  "
   ]
  },
  {
   "cell_type": "code",
   "execution_count": 25,
   "metadata": {},
   "outputs": [
    {
     "data": {
      "text/plain": [
       "array([0., 0., 0., 0., 0., 0., 0., 0., 0., 0., 0., 0., 0., 0., 0., 0., 0.,\n",
       "       0., 0., 0., 0., 0., 0., 0., 0., 0., 0., 0., 0., 0., 0., 0., 0., 0.,\n",
       "       0., 0., 0., 0., 0., 0., 0., 0., 0., 0., 0., 0., 0., 0., 0., 0., 0.,\n",
       "       0., 0., 0., 0., 0., 0., 0., 0., 0., 0., 0., 0., 0., 0., 0., 0., 0.,\n",
       "       0., 0., 0., 0., 0., 0., 0., 0., 0., 0., 0., 0., 0., 0., 0., 0., 0.,\n",
       "       0., 0., 0., 0., 0., 0., 0., 0., 0., 0., 0., 0., 0., 0., 0.])"
      ]
     },
     "execution_count": 25,
     "metadata": {},
     "output_type": "execute_result"
    }
   ],
   "source": [
    "X0[4826,0:100]    "
   ]
  },
  {
   "cell_type": "markdown",
   "metadata": {},
   "source": [
    "Write **X0** to 'ham_proc_X_'"
   ]
  },
  {
   "cell_type": "code",
   "execution_count": 26,
   "metadata": {
    "jupyter": {
     "source_hidden": true
    }
   },
   "outputs": [],
   "source": [
    "f_X = open('ham_proc_X_.txt', 'w')\n",
    "for i in range(0,n):\n",
    "    for j in range(0,m):\n",
    "        f_X.write('%d ' % X0[i,j])\n",
    "    f_X.write('\\n')\n",
    "f_X.close()"
   ]
  },
  {
   "cell_type": "markdown",
   "metadata": {},
   "source": [
    "#### Concatenate **X1**, **X0** to combined feature matrix, **X** (dimensions *N* x *m*)"
   ]
  },
  {
   "cell_type": "code",
   "execution_count": 27,
   "metadata": {},
   "outputs": [],
   "source": [
    "X = np.concatenate((X1,X0), axis = 0)"
   ]
  },
  {
   "cell_type": "code",
   "execution_count": 28,
   "metadata": {},
   "outputs": [
    {
     "data": {
      "text/plain": [
       "(5574, 2000)"
      ]
     },
     "execution_count": 28,
     "metadata": {},
     "output_type": "execute_result"
    }
   ],
   "source": [
    "X.shape"
   ]
  },
  {
   "cell_type": "markdown",
   "metadata": {},
   "source": [
    "#### Write **X** to 'SMS_X_'"
   ]
  },
  {
   "cell_type": "code",
   "execution_count": 29,
   "metadata": {
    "jupyter": {
     "source_hidden": true
    }
   },
   "outputs": [],
   "source": [
    "f = open('SMS_X_.txt', 'w')\n",
    "for i in range(0,N):\n",
    "    for j in range(0,m):\n",
    "        f.write('%d ' % X[i,j])\n",
    "    f.write('\\n')\n",
    "f.close()"
   ]
  },
  {
   "cell_type": "markdown",
   "metadata": {},
   "source": [
    "<a name='212'></a>\n",
    "#### 2.1.2. Write 'SMS_y_'&ensp;(all labels)\n",
    "Write vector for spam (*y* = 1) labels and vector for ham (*y* = 0) labels, then cat the two vectors as 'SMS_y_'."
   ]
  },
  {
   "cell_type": "markdown",
   "metadata": {},
   "source": [
    "#### Write spam label vector, **y1** \n",
    "Dimensions: (*number of spam examples*) x (1)"
   ]
  },
  {
   "cell_type": "code",
   "execution_count": 30,
   "metadata": {},
   "outputs": [],
   "source": [
    "y1 = np.ones((len(X1),1))"
   ]
  },
  {
   "cell_type": "code",
   "execution_count": 34,
   "metadata": {},
   "outputs": [
    {
     "data": {
      "text/plain": [
       "(747, 1)"
      ]
     },
     "execution_count": 34,
     "metadata": {},
     "output_type": "execute_result"
    }
   ],
   "source": [
    "y1.shape"
   ]
  },
  {
   "cell_type": "markdown",
   "metadata": {},
   "source": [
    "#### Write ham label vector, **y0** \n",
    "Dimensions: (*number of ham examples*) x (1)"
   ]
  },
  {
   "cell_type": "code",
   "execution_count": 32,
   "metadata": {},
   "outputs": [],
   "source": [
    "y0 = np.zeros((len(X0),1))"
   ]
  },
  {
   "cell_type": "code",
   "execution_count": 33,
   "metadata": {},
   "outputs": [
    {
     "data": {
      "text/plain": [
       "(4827, 1)"
      ]
     },
     "execution_count": 33,
     "metadata": {},
     "output_type": "execute_result"
    }
   ],
   "source": [
    "y0.shape"
   ]
  },
  {
   "cell_type": "markdown",
   "metadata": {},
   "source": [
    "#### Concatenate **y1**, **y0** to combined label vector, **y** (dimensions *N* x 1)"
   ]
  },
  {
   "cell_type": "code",
   "execution_count": 35,
   "metadata": {},
   "outputs": [],
   "source": [
    "y = np.concatenate((y1,y0), axis = 0)"
   ]
  },
  {
   "cell_type": "code",
   "execution_count": 36,
   "metadata": {
    "collapsed": true,
    "jupyter": {
     "outputs_hidden": true,
     "source_hidden": true
    }
   },
   "outputs": [
    {
     "data": {
      "text/plain": [
       "(1.0, 0.0)"
      ]
     },
     "execution_count": 36,
     "metadata": {},
     "output_type": "execute_result"
    }
   ],
   "source": [
    "y[746,0], y[747,0]"
   ]
  },
  {
   "cell_type": "markdown",
   "metadata": {},
   "source": [
    "#### Write **y** to 'SMS_y_'"
   ]
  },
  {
   "cell_type": "code",
   "execution_count": 36,
   "metadata": {
    "jupyter": {
     "source_hidden": true
    }
   },
   "outputs": [],
   "source": [
    "f = open('SMS_y_.txt', 'w')\n",
    "for i in range(0,N):\n",
    "    f.write('%d\\n' % y[i,0])\n",
    "f.close()"
   ]
  },
  {
   "cell_type": "markdown",
   "metadata": {},
   "source": [
    "<a name='213'></a>\n",
    "#### 2.1.3. Restore **X**, **y** from files 'SMS_X_.txt', 'SMS_y_.txt'"
   ]
  },
  {
   "cell_type": "code",
   "execution_count": 1,
   "metadata": {},
   "outputs": [],
   "source": [
    "import numpy as np\n",
    "\n",
    "N = 5574     # Total number of examples\n",
    "m = 2000     # Length of vocab list / feature vectors"
   ]
  },
  {
   "cell_type": "code",
   "execution_count": 2,
   "metadata": {},
   "outputs": [],
   "source": [
    "X = np.zeros((N,m))"
   ]
  },
  {
   "cell_type": "code",
   "execution_count": 3,
   "metadata": {},
   "outputs": [
    {
     "data": {
      "text/plain": [
       "(5574, 2000)"
      ]
     },
     "execution_count": 3,
     "metadata": {},
     "output_type": "execute_result"
    }
   ],
   "source": [
    "X.shape"
   ]
  },
  {
   "cell_type": "code",
   "execution_count": 4,
   "metadata": {},
   "outputs": [],
   "source": [
    "def vectors(ex,row):\n",
    "    indices = ex.split()\n",
    "    \n",
    "    col = 0\n",
    "    for j in indices:\n",
    "        j = int(j)\n",
    "        X[row,col] = j\n",
    "        col += 1"
   ]
  },
  {
   "cell_type": "code",
   "execution_count": 5,
   "metadata": {},
   "outputs": [],
   "source": [
    "f = open('SMS_X_.txt', 'r')\n",
    "\n",
    "contents = f.readlines()\n",
    "ctr = 0\n",
    "for i in contents:\n",
    "    vectors(i,ctr)\n",
    "    ctr += 1\n",
    "f.close()"
   ]
  },
  {
   "cell_type": "code",
   "execution_count": 6,
   "metadata": {},
   "outputs": [
    {
     "data": {
      "text/plain": [
       "(5574, 2000)"
      ]
     },
     "execution_count": 6,
     "metadata": {},
     "output_type": "execute_result"
    }
   ],
   "source": [
    "X.shape"
   ]
  },
  {
   "cell_type": "code",
   "execution_count": 7,
   "metadata": {},
   "outputs": [
    {
     "data": {
      "text/plain": [
       "array([[1., 0., 0., ..., 0., 0., 0.],\n",
       "       [1., 0., 0., ..., 0., 0., 0.],\n",
       "       [1., 0., 1., ..., 0., 0., 0.],\n",
       "       ...,\n",
       "       [0., 0., 0., ..., 0., 0., 0.],\n",
       "       [0., 0., 0., ..., 0., 0., 0.],\n",
       "       [0., 0., 0., ..., 0., 0., 0.]])"
      ]
     },
     "execution_count": 7,
     "metadata": {},
     "output_type": "execute_result"
    }
   ],
   "source": [
    "X"
   ]
  },
  {
   "cell_type": "code",
   "execution_count": 22,
   "metadata": {},
   "outputs": [],
   "source": [
    "y = np.zeros((N,1))  # y = np.zeros((N,)) avoids version 'fit' warning "
   ]
  },
  {
   "cell_type": "code",
   "execution_count": 21,
   "metadata": {},
   "outputs": [
    {
     "data": {
      "text/plain": [
       "(5574, 1)"
      ]
     },
     "execution_count": 21,
     "metadata": {},
     "output_type": "execute_result"
    }
   ],
   "source": [
    "y.shape"
   ]
  },
  {
   "cell_type": "code",
   "execution_count": 11,
   "metadata": {
    "collapsed": true,
    "jupyter": {
     "outputs_hidden": true,
     "source_hidden": true
    }
   },
   "outputs": [
    {
     "data": {
      "text/plain": [
       "(0.0, 0.0)"
      ]
     },
     "execution_count": 11,
     "metadata": {},
     "output_type": "execute_result"
    }
   ],
   "source": [
    "y[746,0], y[747,0]"
   ]
  },
  {
   "cell_type": "code",
   "execution_count": 23,
   "metadata": {},
   "outputs": [],
   "source": [
    "f = open('SMS_y_.txt', 'r')\n",
    "\n",
    "contents = f.readlines()\n",
    "ctr = 0\n",
    "for i in contents:\n",
    "    y[ctr,0] = i\n",
    "    ctr += 1\n",
    "f.close()"
   ]
  },
  {
   "cell_type": "code",
   "execution_count": 11,
   "metadata": {},
   "outputs": [
    {
     "data": {
      "text/plain": [
       "(5574, 1)"
      ]
     },
     "execution_count": 11,
     "metadata": {},
     "output_type": "execute_result"
    }
   ],
   "source": [
    "y.shape"
   ]
  },
  {
   "cell_type": "code",
   "execution_count": 14,
   "metadata": {
    "collapsed": true,
    "jupyter": {
     "outputs_hidden": true,
     "source_hidden": true
    }
   },
   "outputs": [
    {
     "data": {
      "text/plain": [
       "(1.0, 0.0)"
      ]
     },
     "execution_count": 14,
     "metadata": {},
     "output_type": "execute_result"
    }
   ],
   "source": [
    "y[746,0], y[747,0]"
   ]
  },
  {
   "cell_type": "markdown",
   "metadata": {},
   "source": [
    "### 2.2. Split **X** and **y** into training and test sets\n",
    "25% (1,394) of the 5,574 total examples were randomly selected to provide a test set for models trained on the remaining 4,180 examples. "
   ]
  },
  {
   "cell_type": "code",
   "execution_count": 12,
   "metadata": {},
   "outputs": [],
   "source": [
    "from sklearn.model_selection import train_test_split"
   ]
  },
  {
   "cell_type": "code",
   "execution_count": 24,
   "metadata": {},
   "outputs": [],
   "source": [
    "X_train, X_test, y_train, y_test = train_test_split(X, y, test_size=0.25, random_state=4)"
   ]
  },
  {
   "cell_type": "code",
   "execution_count": 15,
   "metadata": {},
   "outputs": [
    {
     "data": {
      "text/plain": [
       "((1394, 2000), (1394, 1), (4180, 2000), (4180, 1))"
      ]
     },
     "execution_count": 15,
     "metadata": {},
     "output_type": "execute_result"
    }
   ],
   "source": [
    "X_test.shape, y_test.shape, X_train.shape, y_train.shape"
   ]
  },
  {
   "cell_type": "markdown",
   "metadata": {},
   "source": [
    "#### Write **X** and **y** train / test sets to files"
   ]
  },
  {
   "cell_type": "code",
   "execution_count": 25,
   "metadata": {
    "jupyter": {
     "source_hidden": true
    }
   },
   "outputs": [],
   "source": [
    "f = open('SMS_X_-train.txt', 'w')\n",
    "for i in range(0,4180):\n",
    "    for j in range(0,2000):\n",
    "        f.write('%d ' % X_train[i,j])\n",
    "    f.write('\\n')\n",
    "f.close()"
   ]
  },
  {
   "cell_type": "code",
   "execution_count": 26,
   "metadata": {
    "jupyter": {
     "source_hidden": true
    }
   },
   "outputs": [],
   "source": [
    "f = open('SMS_y_-train.txt', 'w')\n",
    "for i in range(0,4180):\n",
    "    f.write('%d\\n' % y_train[i,0])\n",
    "f.close()"
   ]
  },
  {
   "cell_type": "code",
   "execution_count": 27,
   "metadata": {
    "jupyter": {
     "source_hidden": true
    }
   },
   "outputs": [],
   "source": [
    "f = open('SMS_X_-test.txt', 'w')\n",
    "for i in range(0,1394):\n",
    "    for j in range(0,2000):\n",
    "        f.write('%d ' % X_test[i,j])\n",
    "    f.write('\\n')\n",
    "f.close()"
   ]
  },
  {
   "cell_type": "code",
   "execution_count": 28,
   "metadata": {
    "jupyter": {
     "source_hidden": true
    }
   },
   "outputs": [],
   "source": [
    "f = open('SMS_y_-test.txt', 'w')\n",
    "for i in range(0,1394):\n",
    "    f.write('%d\\n' % y_test[i,0])\n",
    "f.close()"
   ]
  },
  {
   "cell_type": "markdown",
   "metadata": {},
   "source": [
    "<a name='Model'></a>\n",
    "## 3. Modeling & Analysis"
   ]
  },
  {
   "cell_type": "markdown",
   "metadata": {},
   "source": [
    "### 3.1. Train and test the SVM classifier\n",
    "To model the training data, we used the support vector classification (SVC) class provided in the 'scikit learn' support vector machine (SVM) library. In part owing to their applicability to high-dimensional feature spaces, SVM algorithms are well-known to be an effective modeling choice for accurate, efficient spam classification. In the algorithm used here ('sklearn.svm.SVC'), we chose a linear kernel, and a value of 0.1 for the regularization parameter, *C*.  "
   ]
  },
  {
   "cell_type": "code",
   "execution_count": 2,
   "metadata": {},
   "outputs": [],
   "source": [
    "import numpy as np\n",
    "import pandas as pd\n",
    "\n",
    "import matplotlib.pyplot as plt\n",
    "%matplotlib inline "
   ]
  },
  {
   "cell_type": "markdown",
   "metadata": {},
   "source": [
    "#### Train the model "
   ]
  },
  {
   "cell_type": "code",
   "execution_count": 26,
   "metadata": {},
   "outputs": [],
   "source": [
    "from sklearn import svm"
   ]
  },
  {
   "cell_type": "code",
   "execution_count": 27,
   "metadata": {},
   "outputs": [
    {
     "data": {
      "text/plain": [
       "SVC(C=0.1, cache_size=200, class_weight=None, coef0=0.0,\n",
       "  decision_function_shape='ovr', degree=3, gamma='auto', kernel='linear',\n",
       "  max_iter=-1, probability=False, random_state=None, shrinking=True,\n",
       "  tol=0.001, verbose=False)"
      ]
     },
     "execution_count": 27,
     "metadata": {},
     "output_type": "execute_result"
    }
   ],
   "source": [
    "clf = svm.SVC(kernel='linear', C=0.1, gamma='auto')\n",
    "clf.fit(X_train, y_train)"
   ]
  },
  {
   "cell_type": "code",
   "execution_count": 28,
   "metadata": {},
   "outputs": [
    {
     "data": {
      "text/plain": [
       "array([0., 0., 0., 0., 0., 0., 0., 1., 0., 0.])"
      ]
     },
     "execution_count": 28,
     "metadata": {},
     "output_type": "execute_result"
    }
   ],
   "source": [
    "yhat = clf.predict(X_train)\n",
    "yhat [0:10]"
   ]
  },
  {
   "cell_type": "markdown",
   "metadata": {},
   "source": [
    "#### Calculate the model's accuracy against the training set"
   ]
  },
  {
   "cell_type": "code",
   "execution_count": 29,
   "metadata": {},
   "outputs": [
    {
     "data": {
      "text/plain": [
       "0.9921052631578947"
      ]
     },
     "execution_count": 29,
     "metadata": {},
     "output_type": "execute_result"
    }
   ],
   "source": [
    "from sklearn.metrics import jaccard_similarity_score\n",
    "\n",
    "jaccard_similarity_score(y_train, yhat)"
   ]
  },
  {
   "cell_type": "markdown",
   "metadata": {},
   "source": [
    "#### Calculate **accuracy** against the test set"
   ]
  },
  {
   "cell_type": "code",
   "execution_count": 30,
   "metadata": {},
   "outputs": [
    {
     "data": {
      "text/plain": [
       "array([0., 0., 0., 1., 0., 1., 0., 0., 0., 0.])"
      ]
     },
     "execution_count": 30,
     "metadata": {},
     "output_type": "execute_result"
    }
   ],
   "source": [
    "yhat = clf.predict(X_test)\n",
    "yhat [0:10]"
   ]
  },
  {
   "cell_type": "code",
   "execution_count": 31,
   "metadata": {},
   "outputs": [
    {
     "data": {
      "text/plain": [
       "0.9863701578192252"
      ]
     },
     "execution_count": 31,
     "metadata": {},
     "output_type": "execute_result"
    }
   ],
   "source": [
    "jaccard_similarity_score(y_test, yhat)"
   ]
  },
  {
   "cell_type": "markdown",
   "metadata": {},
   "source": [
    "<span style='color:indigo'><font size='5'>**0.9863701578192252**</font></span>"
   ]
  },
  {
   "cell_type": "markdown",
   "metadata": {},
   "source": [
    "#### Generate / display a **classification report** and **confusion matrix**"
   ]
  },
  {
   "cell_type": "code",
   "execution_count": 60,
   "metadata": {},
   "outputs": [],
   "source": [
    "from sklearn.metrics import classification_report, confusion_matrix\n",
    "import itertools"
   ]
  },
  {
   "cell_type": "code",
   "execution_count": 61,
   "metadata": {},
   "outputs": [],
   "source": [
    "def plot_confusion_matrix(cm, classes,\n",
    "                          normalize=False,\n",
    "                          title='Confusion matrix',\n",
    "                          cmap=plt.cm.Reds):    \n",
    "    \"\"\"\n",
    "    This function prints and plots the confusion matrix.\n",
    "    Normalization can be applied by setting `normalize=True`.\n",
    "    \"\"\"\n",
    "    if normalize:\n",
    "        cm = cm.astype('float') / cm.sum(axis=1)[:, np.newaxis]\n",
    "        print(\"Normalized confusion matrix\")\n",
    "    else:\n",
    "        print('Confusion matrix, without normalization')\n",
    "\n",
    "    print(cm)\n",
    "\n",
    "    plt.imshow(cm, interpolation='nearest', cmap=cmap)\n",
    "    plt.title(title)\n",
    "    plt.colorbar()\n",
    "    tick_marks = np.arange(len(classes))\n",
    "    plt.xticks(tick_marks, classes, rotation=45)\n",
    "    plt.yticks(tick_marks, classes)\n",
    "\n",
    "    fmt = '.2f' if normalize else 'd'\n",
    "    thresh = cm.max() / 2.\n",
    "    for i, j in itertools.product(range(cm.shape[0]), range(cm.shape[1])):\n",
    "        plt.text(j, i, format(cm[i, j], fmt),\n",
    "                 horizontalalignment=\"center\",\n",
    "                 color=\"white\" if cm[i, j] > thresh else \"black\")\n",
    "\n",
    "    plt.tight_layout()\n",
    "    plt.ylabel('True label')\n",
    "    plt.xlabel('Predicted label')"
   ]
  },
  {
   "cell_type": "code",
   "execution_count": 29,
   "metadata": {},
   "outputs": [
    {
     "name": "stdout",
     "output_type": "stream",
     "text": [
      "              precision    recall  f1-score   support\n",
      "\n",
      "         0.0       0.99      1.00      0.99      1208\n",
      "         1.0       0.99      0.90      0.95       186\n",
      "\n",
      "   micro avg       0.99      0.99      0.99      1394\n",
      "   macro avg       0.99      0.95      0.97      1394\n",
      "weighted avg       0.99      0.99      0.99      1394\n",
      "\n",
      "Confusion matrix, without normalization\n",
      "[[1207    1]\n",
      " [  18  168]]\n"
     ]
    },
    {
     "data": {
      "image/png": "[encoded data removed]",
      "text/plain": [
       "<Figure size 432x288 with 2 Axes>"
      ]
     },
     "metadata": {
      "needs_background": "light"
     },
     "output_type": "display_data"
    }
   ],
   "source": [
    "# Compute confusion matrix\n",
    "cnf_matrix = confusion_matrix(y_test, yhat, labels=[0,1])    \n",
    "np.set_printoptions(precision=2)\n",
    "\n",
    "print (classification_report(y_test, yhat))\n",
    "\n",
    "# Plot non-normalized confusion matrix\n",
    "plt.figure()\n",
    "plot_confusion_matrix(cnf_matrix, classes=['Ham (0)','Spam (1)'],normalize= False,  title='Confusion matrix')"
   ]
  },
  {
   "cell_type": "markdown",
   "metadata": {},
   "source": [
    "#### Calculate \\\\(F_1\\text{,}\\\\) **precision**, and **recall** scores"
   ]
  },
  {
   "cell_type": "code",
   "execution_count": 32,
   "metadata": {},
   "outputs": [
    {
     "data": {
      "text/plain": [
       "0.9860914271008298"
      ]
     },
     "execution_count": 32,
     "metadata": {},
     "output_type": "execute_result"
    }
   ],
   "source": [
    "from sklearn.metrics import f1_score\n",
    "from sklearn.metrics import precision_score\n",
    "from sklearn.metrics import recall_score\n",
    "\n",
    "f1_score(y_test, yhat, average='weighted') "
   ]
  },
  {
   "cell_type": "markdown",
   "metadata": {},
   "source": [
    "<span style='color:indigo'><font size='5'>**0.9860914271008298**</font></span>"
   ]
  },
  {
   "cell_type": "code",
   "execution_count": 65,
   "metadata": {},
   "outputs": [
    {
     "data": {
      "text/plain": [
       "0.9864771909629778"
      ]
     },
     "execution_count": 65,
     "metadata": {},
     "output_type": "execute_result"
    }
   ],
   "source": [
    "precision_score(y_test, yhat, average='weighted')"
   ]
  },
  {
   "cell_type": "code",
   "execution_count": 66,
   "metadata": {},
   "outputs": [
    {
     "data": {
      "text/plain": [
       "0.9863701578192252"
      ]
     },
     "execution_count": 66,
     "metadata": {},
     "output_type": "execute_result"
    }
   ],
   "source": [
    "recall_score(y_test, yhat, average='weighted')"
   ]
  },
  {
   "cell_type": "markdown",
   "metadata": {},
   "source": [
    "### 3.2. Rank the SMS vocabulary words as predictors of spam\n",
    "The fitted parameter (i.e., weight) values were sorted in descending order. The list of corresponding words in 'vocabSMS_' ranks the 2,000 most frequently-occurring words in the SMS dataset (omitting stopwords) from most to least predictive of spam.     "
   ]
  },
  {
   "cell_type": "code",
   "execution_count": 29,
   "metadata": {},
   "outputs": [
    {
     "data": {
      "text/plain": [
       "SVC(C=0.1, cache_size=200, class_weight=None, coef0=0.0,\n",
       "  decision_function_shape='ovr', degree=3, gamma='auto', kernel='linear',\n",
       "  max_iter=-1, probability=False, random_state=None, shrinking=True,\n",
       "  tol=0.001, verbose=False)"
      ]
     },
     "execution_count": 29,
     "metadata": {},
     "output_type": "execute_result"
    }
   ],
   "source": [
    "clf"
   ]
  },
  {
   "cell_type": "code",
   "execution_count": 33,
   "metadata": {},
   "outputs": [],
   "source": [
    "W = clf.coef_"
   ]
  },
  {
   "cell_type": "code",
   "execution_count": 34,
   "metadata": {},
   "outputs": [
    {
     "data": {
      "text/plain": [
       "(1, 2000)"
      ]
     },
     "execution_count": 34,
     "metadata": {},
     "output_type": "execute_result"
    }
   ],
   "source": [
    "W.shape"
   ]
  },
  {
   "cell_type": "code",
   "execution_count": 35,
   "metadata": {},
   "outputs": [
    {
     "data": {
      "text/plain": [
       "array([[ 0.64335591, -0.15852013,  0.46625571, ...,  0.        ,\n",
       "         0.03094458,  0.04205147]])"
      ]
     },
     "execution_count": 35,
     "metadata": {},
     "output_type": "execute_result"
    }
   ],
   "source": [
    "W"
   ]
  },
  {
   "cell_type": "code",
   "execution_count": 36,
   "metadata": {},
   "outputs": [
    {
     "data": {
      "text/plain": [
       "0.7838872489745269"
      ]
     },
     "execution_count": 36,
     "metadata": {},
     "output_type": "execute_result"
    }
   ],
   "source": [
    "np.amax(W)"
   ]
  },
  {
   "cell_type": "code",
   "execution_count": 37,
   "metadata": {},
   "outputs": [
    {
     "data": {
      "text/plain": [
       "51"
      ]
     },
     "execution_count": 37,
     "metadata": {},
     "output_type": "execute_result"
    }
   ],
   "source": [
    "np.argmax(W)"
   ]
  },
  {
   "cell_type": "code",
   "execution_count": 38,
   "metadata": {},
   "outputs": [
    {
     "data": {
      "text/plain": [
       "0.7838872489745269"
      ]
     },
     "execution_count": 38,
     "metadata": {},
     "output_type": "execute_result"
    }
   ],
   "source": [
    "W[0,51]     # Position 52 in 'vocabSMS_' = 'numberp'"
   ]
  },
  {
   "cell_type": "code",
   "execution_count": 37,
   "metadata": {},
   "outputs": [],
   "source": [
    "dfW = pd.DataFrame(W)"
   ]
  },
  {
   "cell_type": "code",
   "execution_count": 38,
   "metadata": {},
   "outputs": [
    {
     "data": {
      "text/html": [
       "<div>\n",
       "<style scoped>\n",
       "    .dataframe tbody tr th:only-of-type {\n",
       "        vertical-align: middle;\n",
       "    }\n",
       "\n",
       "    .dataframe tbody tr th {\n",
       "        vertical-align: top;\n",
       "    }\n",
       "\n",
       "    .dataframe thead th {\n",
       "        text-align: right;\n",
       "    }\n",
       "</style>\n",
       "<table border=\"1\" class=\"dataframe\">\n",
       "  <thead>\n",
       "    <tr style=\"text-align: right;\">\n",
       "      <th></th>\n",
       "      <th>0</th>\n",
       "      <th>1</th>\n",
       "      <th>2</th>\n",
       "      <th>3</th>\n",
       "      <th>4</th>\n",
       "      <th>5</th>\n",
       "      <th>6</th>\n",
       "      <th>7</th>\n",
       "      <th>8</th>\n",
       "      <th>9</th>\n",
       "      <th>...</th>\n",
       "      <th>1990</th>\n",
       "      <th>1991</th>\n",
       "      <th>1992</th>\n",
       "      <th>1993</th>\n",
       "      <th>1994</th>\n",
       "      <th>1995</th>\n",
       "      <th>1996</th>\n",
       "      <th>1997</th>\n",
       "      <th>1998</th>\n",
       "      <th>1999</th>\n",
       "    </tr>\n",
       "  </thead>\n",
       "  <tbody>\n",
       "    <tr>\n",
       "      <th>0</th>\n",
       "      <td>0.643356</td>\n",
       "      <td>-0.15852</td>\n",
       "      <td>0.466256</td>\n",
       "      <td>-0.051388</td>\n",
       "      <td>0.144724</td>\n",
       "      <td>0.237545</td>\n",
       "      <td>-0.029026</td>\n",
       "      <td>-0.082384</td>\n",
       "      <td>-0.129716</td>\n",
       "      <td>-0.04483</td>\n",
       "      <td>...</td>\n",
       "      <td>0.0</td>\n",
       "      <td>0.0</td>\n",
       "      <td>0.068554</td>\n",
       "      <td>0.1</td>\n",
       "      <td>0.1</td>\n",
       "      <td>0.1</td>\n",
       "      <td>0.1</td>\n",
       "      <td>0.0</td>\n",
       "      <td>0.030945</td>\n",
       "      <td>0.042051</td>\n",
       "    </tr>\n",
       "  </tbody>\n",
       "</table>\n",
       "<p>1 rows × 2000 columns</p>\n",
       "</div>"
      ],
      "text/plain": [
       "       0        1         2         3         4         5         6     \\\n",
       "0  0.643356 -0.15852  0.466256 -0.051388  0.144724  0.237545 -0.029026   \n",
       "\n",
       "       7         8        9     ...  1990  1991      1992  1993  1994  1995  \\\n",
       "0 -0.082384 -0.129716 -0.04483  ...   0.0   0.0  0.068554   0.1   0.1   0.1   \n",
       "\n",
       "   1996  1997      1998      1999  \n",
       "0   0.1   0.0  0.030945  0.042051  \n",
       "\n",
       "[1 rows x 2000 columns]"
      ]
     },
     "execution_count": 38,
     "metadata": {},
     "output_type": "execute_result"
    }
   ],
   "source": [
    "dfW"
   ]
  },
  {
   "cell_type": "code",
   "execution_count": null,
   "metadata": {},
   "outputs": [],
   "source": []
  },
  {
   "cell_type": "code",
   "execution_count": 39,
   "metadata": {},
   "outputs": [],
   "source": [
    "Wsrt = -np.sort(-W)"
   ]
  },
  {
   "cell_type": "code",
   "execution_count": 43,
   "metadata": {},
   "outputs": [
    {
     "data": {
      "text/plain": [
       "(1, 2000)"
      ]
     },
     "execution_count": 43,
     "metadata": {},
     "output_type": "execute_result"
    }
   ],
   "source": [
    "Wsrt.shape"
   ]
  },
  {
   "cell_type": "code",
   "execution_count": 44,
   "metadata": {},
   "outputs": [
    {
     "data": {
      "text/plain": [
       "array([[ 0.78388725,  0.67175003,  0.64335591, ..., -0.28995467,\n",
       "        -0.29453247, -0.29975577]])"
      ]
     },
     "execution_count": 44,
     "metadata": {},
     "output_type": "execute_result"
    }
   ],
   "source": [
    "Wsrt"
   ]
  },
  {
   "cell_type": "code",
   "execution_count": 45,
   "metadata": {},
   "outputs": [],
   "source": [
    "dfWsrt = pd.DataFrame(Wsrt)"
   ]
  },
  {
   "cell_type": "code",
   "execution_count": 46,
   "metadata": {},
   "outputs": [
    {
     "data": {
      "text/html": [
       "<div>\n",
       "<style scoped>\n",
       "    .dataframe tbody tr th:only-of-type {\n",
       "        vertical-align: middle;\n",
       "    }\n",
       "\n",
       "    .dataframe tbody tr th {\n",
       "        vertical-align: top;\n",
       "    }\n",
       "\n",
       "    .dataframe thead th {\n",
       "        text-align: right;\n",
       "    }\n",
       "</style>\n",
       "<table border=\"1\" class=\"dataframe\">\n",
       "  <thead>\n",
       "    <tr style=\"text-align: right;\">\n",
       "      <th></th>\n",
       "      <th>0</th>\n",
       "      <th>1</th>\n",
       "      <th>2</th>\n",
       "      <th>3</th>\n",
       "      <th>4</th>\n",
       "      <th>5</th>\n",
       "      <th>6</th>\n",
       "      <th>7</th>\n",
       "      <th>8</th>\n",
       "      <th>9</th>\n",
       "      <th>...</th>\n",
       "      <th>1990</th>\n",
       "      <th>1991</th>\n",
       "      <th>1992</th>\n",
       "      <th>1993</th>\n",
       "      <th>1994</th>\n",
       "      <th>1995</th>\n",
       "      <th>1996</th>\n",
       "      <th>1997</th>\n",
       "      <th>1998</th>\n",
       "      <th>1999</th>\n",
       "    </tr>\n",
       "  </thead>\n",
       "  <tbody>\n",
       "    <tr>\n",
       "      <th>0</th>\n",
       "      <td>0.783887</td>\n",
       "      <td>0.67175</td>\n",
       "      <td>0.643356</td>\n",
       "      <td>0.621409</td>\n",
       "      <td>0.601879</td>\n",
       "      <td>0.585937</td>\n",
       "      <td>0.566945</td>\n",
       "      <td>0.558732</td>\n",
       "      <td>0.518414</td>\n",
       "      <td>0.501873</td>\n",
       "      <td>...</td>\n",
       "      <td>-0.226623</td>\n",
       "      <td>-0.241648</td>\n",
       "      <td>-0.250653</td>\n",
       "      <td>-0.250875</td>\n",
       "      <td>-0.260722</td>\n",
       "      <td>-0.263262</td>\n",
       "      <td>-0.26978</td>\n",
       "      <td>-0.289955</td>\n",
       "      <td>-0.294532</td>\n",
       "      <td>-0.299756</td>\n",
       "    </tr>\n",
       "  </tbody>\n",
       "</table>\n",
       "<p>1 rows × 2000 columns</p>\n",
       "</div>"
      ],
      "text/plain": [
       "       0        1         2         3         4         5         6     \\\n",
       "0  0.783887  0.67175  0.643356  0.621409  0.601879  0.585937  0.566945   \n",
       "\n",
       "       7         8         9     ...      1990      1991      1992      1993  \\\n",
       "0  0.558732  0.518414  0.501873  ... -0.226623 -0.241648 -0.250653 -0.250875   \n",
       "\n",
       "       1994      1995     1996      1997      1998      1999  \n",
       "0 -0.260722 -0.263262 -0.26978 -0.289955 -0.294532 -0.299756  \n",
       "\n",
       "[1 rows x 2000 columns]"
      ]
     },
     "execution_count": 46,
     "metadata": {},
     "output_type": "execute_result"
    }
   ],
   "source": [
    "dfWsrt"
   ]
  },
  {
   "cell_type": "code",
   "execution_count": null,
   "metadata": {},
   "outputs": [],
   "source": []
  },
  {
   "cell_type": "code",
   "execution_count": 51,
   "metadata": {},
   "outputs": [],
   "source": [
    "Wsrt_idx = np.zeros((W.shape[1],2))"
   ]
  },
  {
   "cell_type": "code",
   "execution_count": 52,
   "metadata": {},
   "outputs": [
    {
     "data": {
      "text/plain": [
       "(2000, 2)"
      ]
     },
     "execution_count": 52,
     "metadata": {},
     "output_type": "execute_result"
    }
   ],
   "source": [
    "Wsrt_idx.shape"
   ]
  },
  {
   "cell_type": "code",
   "execution_count": 53,
   "metadata": {},
   "outputs": [],
   "source": [
    "Wsrt_idx = Wsrt_idx.astype('str')"
   ]
  },
  {
   "cell_type": "code",
   "execution_count": 56,
   "metadata": {},
   "outputs": [],
   "source": [
    "ctr = 0\n",
    "for i in range(0,Wsrt.shape[1]):\n",
    "    for j in range(0,W.shape[1]):\n",
    "        if ( dfW.iloc[0,j] == dfWsrt.iloc[0,i] ):\n",
    "            Wsrt_idx[i,0] = df.iloc[j,1]\n",
    "            Wsrt_idx[i,1] = W[0,j]\n",
    "    ctr += 1"
   ]
  },
  {
   "cell_type": "code",
   "execution_count": 57,
   "metadata": {},
   "outputs": [
    {
     "data": {
      "text/html": [
       "<div>\n",
       "<style scoped>\n",
       "    .dataframe tbody tr th:only-of-type {\n",
       "        vertical-align: middle;\n",
       "    }\n",
       "\n",
       "    .dataframe tbody tr th {\n",
       "        vertical-align: top;\n",
       "    }\n",
       "\n",
       "    .dataframe thead th {\n",
       "        text-align: right;\n",
       "    }\n",
       "</style>\n",
       "<table border=\"1\" class=\"dataframe\">\n",
       "  <thead>\n",
       "    <tr style=\"text-align: right;\">\n",
       "      <th></th>\n",
       "      <th>0</th>\n",
       "      <th>1</th>\n",
       "    </tr>\n",
       "  </thead>\n",
       "  <tbody>\n",
       "    <tr>\n",
       "      <th>0</th>\n",
       "      <td>numberp</td>\n",
       "      <td>0.7838872489745269</td>\n",
       "    </tr>\n",
       "    <tr>\n",
       "      <th>1</th>\n",
       "      <td>txt</td>\n",
       "      <td>0.6717500267527078</td>\n",
       "    </tr>\n",
       "    <tr>\n",
       "      <th>2</th>\n",
       "      <td>number</td>\n",
       "      <td>0.6433559062230254</td>\n",
       "    </tr>\n",
       "    <tr>\n",
       "      <th>3</th>\n",
       "      <td>rington</td>\n",
       "      <td>0.6214090134006139</td>\n",
       "    </tr>\n",
       "    <tr>\n",
       "      <th>4</th>\n",
       "      <td>httpaddr</td>\n",
       "      <td>0.6018788254615973</td>\n",
       "    </tr>\n",
       "    <tr>\n",
       "      <th>5</th>\n",
       "      <td>claim</td>\n",
       "      <td>0.5859367870689165</td>\n",
       "    </tr>\n",
       "    <tr>\n",
       "      <th>6</th>\n",
       "      <td>servic</td>\n",
       "      <td>0.5669446683127145</td>\n",
       "    </tr>\n",
       "    <tr>\n",
       "      <th>7</th>\n",
       "      <td>uk</td>\n",
       "      <td>0.5587318493752339</td>\n",
       "    </tr>\n",
       "    <tr>\n",
       "      <th>8</th>\n",
       "      <td>text</td>\n",
       "      <td>0.5184137737415964</td>\n",
       "    </tr>\n",
       "    <tr>\n",
       "      <th>9</th>\n",
       "      <td>repli</td>\n",
       "      <td>0.5018727107768512</td>\n",
       "    </tr>\n",
       "    <tr>\n",
       "      <th>10</th>\n",
       "      <td>call</td>\n",
       "      <td>0.46625571257396825</td>\n",
       "    </tr>\n",
       "    <tr>\n",
       "      <th>11</th>\n",
       "      <td>ac</td>\n",
       "      <td>0.44991645768200106</td>\n",
       "    </tr>\n",
       "    <tr>\n",
       "      <th>12</th>\n",
       "      <td>chat</td>\n",
       "      <td>0.4268658921934895</td>\n",
       "    </tr>\n",
       "    <tr>\n",
       "      <th>13</th>\n",
       "      <td>urgent</td>\n",
       "      <td>0.41558050785221334</td>\n",
       "    </tr>\n",
       "    <tr>\n",
       "      <th>14</th>\n",
       "      <td>emailaddr</td>\n",
       "      <td>0.4075384589730702</td>\n",
       "    </tr>\n",
       "  </tbody>\n",
       "</table>\n",
       "</div>"
      ],
      "text/plain": [
       "            0                    1\n",
       "0     numberp   0.7838872489745269\n",
       "1         txt   0.6717500267527078\n",
       "2      number   0.6433559062230254\n",
       "3     rington   0.6214090134006139\n",
       "4    httpaddr   0.6018788254615973\n",
       "5       claim   0.5859367870689165\n",
       "6      servic   0.5669446683127145\n",
       "7          uk   0.5587318493752339\n",
       "8        text   0.5184137737415964\n",
       "9       repli   0.5018727107768512\n",
       "10       call  0.46625571257396825\n",
       "11         ac  0.44991645768200106\n",
       "12       chat   0.4268658921934895\n",
       "13     urgent  0.41558050785221334\n",
       "14  emailaddr   0.4075384589730702"
      ]
     },
     "execution_count": 57,
     "metadata": {},
     "output_type": "execute_result"
    }
   ],
   "source": [
    "dfWsrt_idx = pd.DataFrame(Wsrt_idx)\n",
    "dfWsrt_idx.head(15)"
   ]
  },
  {
   "cell_type": "markdown",
   "metadata": {},
   "source": [
    "Top 15 predictors of spam among the processed words in the SMS dataset."
   ]
  },
  {
   "cell_type": "markdown",
   "metadata": {},
   "source": [
    "<a name='Results'></a>\n",
    "## 4. Results & Conclusion"
   ]
  },
  {
   "cell_type": "markdown",
   "metadata": {},
   "source": [
    "The following table summarizes the analysis presented in **Section 3**.\n",
    "\n",
    "\n",
    "|              | Training Set | Test Set |\n",
    "|--------------|--------------|----------|\n",
    "|   Accuracy   |     0.9921   |   0.9864 |\n",
    "| F<sub>1</sub>|       -      |   0.9861 |\n",
    "|   *P*        |       -      |   0.9865 |\n",
    "|   *R*        |       -      |   0.9864 |\n",
    "\n"
   ]
  }
 ],
 "metadata": {
  "kernelspec": {
   "display_name": "Python",
   "language": "python",
   "name": "conda-env-python-py"
  },
  "language_info": {
   "codemirror_mode": {
    "name": "ipython",
    "version": 3
   },
   "file_extension": ".py",
   "mimetype": "text/x-python",
   "name": "python",
   "nbconvert_exporter": "python",
   "pygments_lexer": "ipython3",
   "version": "3.6.11"
  }
 },
 "nbformat": 4,
 "nbformat_minor": 4
}
